{
  "nbformat": 4,
  "nbformat_minor": 0,
  "metadata": {
    "colab": {
      "provenance": [],
      "authorship_tag": "ABX9TyPqEeqIOpmaEy7AYsQPMzRZ",
      "include_colab_link": true
    },
    "kernelspec": {
      "name": "python3",
      "display_name": "Python 3"
    },
    "language_info": {
      "name": "python"
    }
  },
  "cells": [
    {
      "cell_type": "markdown",
      "metadata": {
        "id": "view-in-github",
        "colab_type": "text"
      },
      "source": [
        "<a href=\"https://colab.research.google.com/github/Kushagra-1071/Portfolio_Optimization/blob/main/Portfolio_Optimization.ipynb\" target=\"_parent\"><img src=\"https://colab.research.google.com/assets/colab-badge.svg\" alt=\"Open In Colab\"/></a>"
      ]
    },
    {
      "cell_type": "markdown",
      "source": [
        "Importing 100 companies data.\n"
      ],
      "metadata": {
        "id": "tzRYOAArP3BP"
      }
    },
    {
      "cell_type": "markdown",
      "source": [
        "Getting ticker data from yahoo finance for the data"
      ],
      "metadata": {
        "id": "ebEgVMwsa313"
      }
    },
    {
      "cell_type": "markdown",
      "source": [
        "LSTM Approach"
      ],
      "metadata": {
        "id": "0_67BQpqEg6Q"
      }
    },
    {
      "cell_type": "code",
      "source": [
        "#importing Libraries\n",
        "import yfinance as yf\n",
        "import pandas as pd\n",
        "from tensorflow.keras.models import Sequential\n",
        "from tensorflow.keras.layers import Dense, LSTM\n",
        "from numpy import array\n",
        "import numpy as np\n",
        "from scipy.optimize import minimize"
      ],
      "metadata": {
        "id": "X-0VBaxFQ4rA"
      },
      "execution_count": 19,
      "outputs": []
    },
    {
      "cell_type": "code",
      "source": [
        "#Getting Company data for Nifty 50 stocks\n",
        "company_tickers = ['ADANIPORTS.NS','ADANIENT.NS','APOLLOHOSP.NS','AXISBANK.NS','ASIANPAINT.NS','BAJAJFINSV.NS','BAJAJ-AUTO.NS','BAJFINANCE.NS','BRITANNIA.NS','BHARTIARTL.NS','BPCL.NS','CIPLA.NS','COALINDIA.NS','DRREDDY.NS','DIVISLAB.NS','EICHERMOT.NS','GRASIM.NS','HINDALCO.NS','HDFCBANK.NS','HDFCLIFE.NS','HCLTECH.NS','HINDUNILVR.NS','HEROMOTOCO.NS','ICICIBANK.NS','ITC.NS','INFY.NS','INDUSINDBK.NS','JSWSTEEL.NS','KOTAKBANK.NS','LT.NS','LTIM.NS','M&M.NS','MARUTI.NS','NESTLEIND.NS','ONGC.NS','NTPC.NS','POWERGRID.NS','RELIANCE.NS','SBIN.NS','SBILIFE.NS','SUNPHARMA.NS','TATASTEEL.NS','TATACONSUM.NS','TATAMOTORS.NS','TCS.NS','TECHM.NS','TITAN.NS','UPL.NS','ULTRACEMCO.NS','WIPRO.NS']\n",
        "stock_data = yf.download(company_tickers, period='5y')"
      ],
      "metadata": {
        "colab": {
          "base_uri": "https://localhost:8080/"
        },
        "id": "-26xJdGyQ_4N",
        "outputId": "3d74065f-8b00-4f5a-cd67-8c48cc903cf5"
      },
      "execution_count": 17,
      "outputs": [
        {
          "output_type": "stream",
          "name": "stdout",
          "text": [
            "[*********************100%%**********************]  50 of 50 completed\n",
            "              Adj Close                                            \\\n",
            "            ADANIENT.NS ADANIPORTS.NS APOLLOHOSP.NS ASIANPAINT.NS   \n",
            "Date                                                                \n",
            "2018-11-02   173.520142    323.060760   1137.772705   1205.804932   \n",
            "2018-11-05   166.504211    319.138733   1148.373413   1202.952393   \n",
            "2018-11-06   162.502182    315.313538   1111.690063   1197.585815   \n",
            "2018-11-07   163.786789    315.894592   1115.979614   1209.624512   \n",
            "2018-11-09   164.330276    326.934418   1132.842163   1252.799316   \n",
            "...                 ...           ...           ...           ...   \n",
            "2023-10-27  2261.699951    782.400024   4830.200195   2955.149902   \n",
            "2023-10-30  2299.100098    785.000000   4841.750000   2967.100098   \n",
            "2023-10-31  2294.649902    784.750000   4819.899902   2995.699951   \n",
            "2023-11-01  2217.300049    769.099976   4796.549805   2934.550049   \n",
            "2023-11-02  2215.300049    774.299988   4887.000000   2955.399902   \n",
            "\n",
            "                                                                   \\\n",
            "            AXISBANK.NS BAJAJ-AUTO.NS BAJAJFINSV.NS BAJFINANCE.NS   \n",
            "Date                                                                \n",
            "2018-11-02   608.344849   2179.240479    551.127747   2341.106934   \n",
            "2018-11-05   622.042969   2191.375732    555.546570   2317.629395   \n",
            "2018-11-06   605.156982   2193.056396    557.681152   2298.327637   \n",
            "2018-11-07   604.559204   2207.774658    561.391785   2306.824463   \n",
            "2018-11-09   610.885193   2208.184570    568.693237   2333.297363   \n",
            "...                 ...           ...           ...           ...   \n",
            "2023-10-27  1002.750000   5373.549805   1566.400024   7507.200195   \n",
            "2023-10-30   989.200012   5308.899902   1561.099976   7503.049805   \n",
            "2023-10-31   981.849976   5314.049805   1569.550049   7492.649902   \n",
            "2023-11-01   971.799988   5344.350098   1572.849976   7471.899902   \n",
            "2023-11-02   982.950012   5318.399902   1575.599976   7449.100098   \n",
            "\n",
            "                                      ...       Volume                \\\n",
            "           BHARTIARTL.NS     BPCL.NS  ... SUNPHARMA.NS TATACONSUM.NS   \n",
            "Date                                  ...                              \n",
            "2018-11-02    271.655670  226.649368  ...      2688591       1701852   \n",
            "2018-11-05    274.923492  218.740784  ...      2962317        977010   \n",
            "2018-11-06    276.600922  213.718307  ...      3500726       1114288   \n",
            "2018-11-07    277.689056  216.454468  ...       298414        180558   \n",
            "2018-11-09    271.795227  222.526413  ...      6848765       3291284   \n",
            "...                  ...         ...  ...          ...           ...   \n",
            "2023-10-27    914.599976  334.950012  ...      1250965        797507   \n",
            "2023-10-30    926.250000  346.899994  ...      1078813       1147541   \n",
            "2023-10-31    914.400024  349.250000  ...      6475786       1082510   \n",
            "2023-11-01    913.450012  356.899994  ...      3973264       2678745   \n",
            "2023-11-02    923.849976  360.549988  ...      3454674       1082384   \n",
            "\n",
            "                                                                  \\\n",
            "           TATAMOTORS.NS TATASTEEL.NS   TCS.NS TECHM.NS TITAN.NS   \n",
            "Date                                                               \n",
            "2018-11-02      29425248     79794570  1818635  4445407  3078543   \n",
            "2018-11-05      14818506     45358560  1713366  2782174  1903690   \n",
            "2018-11-06      35339222     39102740  1398710  1752227  2504504   \n",
            "2018-11-07       3932893      4138710   144530   111376   331169   \n",
            "2018-11-09      22341961     43487160  2570479  2573761  3528039   \n",
            "...                  ...          ...      ...      ...      ...   \n",
            "2023-10-27      10232856     28424007  1108851  1382498  1050608   \n",
            "2023-10-30      12786883     18753217   910972  2255915   802316   \n",
            "2023-10-31      11395766     22319950   999811  1194765  1235478   \n",
            "2023-11-01       8785264     24717941  1563475  1288497   756820   \n",
            "2023-11-02       9926977     72527298  1244886  2492831   774124   \n",
            "\n",
            "                                            \n",
            "           ULTRACEMCO.NS   UPL.NS WIPRO.NS  \n",
            "Date                                        \n",
            "2018-11-02        444425  7268007  4880965  \n",
            "2018-11-05        229476  2223669  3405427  \n",
            "2018-11-06        277572  2185276  3054576  \n",
            "2018-11-07         52687   579105   190054  \n",
            "2018-11-09        200993  2790439  6164637  \n",
            "...                  ...      ...      ...  \n",
            "2023-10-27        227682  2425358  3101406  \n",
            "2023-10-30        244073  7164172  2344372  \n",
            "2023-10-31        218908  5210230  3076768  \n",
            "2023-11-01        209234  3767073  2120976  \n",
            "2023-11-02        200581  1797750  2370938  \n",
            "\n",
            "[1236 rows x 300 columns]\n"
          ]
        }
      ]
    },
    {
      "cell_type": "code",
      "source": [
        "#Train Test Split preparation for LSTM\n",
        "from sklearn.model_selection import train_test_split\n",
        "from sklearn.preprocessing import StandardScaler\n",
        "X_train, X_test, y_train, y_test = train_test_split(stock_data[['Open', 'High', 'Low', 'Close', 'Volume']], stock_data[['Close']], test_size=0.25)\n",
        "\n",
        "# Normalize the stock data\n",
        "scaler = StandardScaler()\n",
        "X_train = scaler.fit_transform(X_train)\n",
        "X_test = scaler.transform(X_test)"
      ],
      "metadata": {
        "id": "Bdm-AICkVPMp"
      },
      "execution_count": 22,
      "outputs": []
    },
    {
      "cell_type": "code",
      "source": [
        "#Building the model\n",
        "import tensorflow as tf\n",
        "model = Sequential()\n",
        "X_train = tf.keras.preprocessing.sequence.pad_sequences(X_train, maxlen=100)\n",
        "# Add an LSTM layer with 128 units\n",
        "X_train = np.expand_dims(X_train, axis=2)\n",
        "\n",
        "\n",
        "# Add a dense layer with 1 unit\n",
        "model.add(Dense(1))\n",
        "\n",
        "# Compile the model\n",
        "model.compile(loss='mse', optimizer='adam')\n",
        "model.fit(X_train, y_train, epochs=100)"
      ],
      "metadata": {
        "colab": {
          "base_uri": "https://localhost:8080/"
        },
        "id": "dW9P3_RQV98x",
        "outputId": "ef830672-2d49-419b-facf-38d201129c70"
      },
      "execution_count": 31,
      "outputs": [
        {
          "output_type": "stream",
          "name": "stdout",
          "text": [
            "Epoch 1/100\n",
            "29/29 [==============================] - 2s 36ms/step - loss: 11537797.0000\n",
            "Epoch 2/100\n",
            "29/29 [==============================] - 1s 37ms/step - loss: 11537676.0000\n",
            "Epoch 3/100\n",
            "29/29 [==============================] - 1s 33ms/step - loss: 11537553.0000\n",
            "Epoch 4/100\n",
            "29/29 [==============================] - 1s 33ms/step - loss: 11537437.0000\n",
            "Epoch 5/100\n",
            "29/29 [==============================] - 1s 34ms/step - loss: 11537319.0000\n",
            "Epoch 6/100\n",
            "29/29 [==============================] - 1s 37ms/step - loss: 11537198.0000\n",
            "Epoch 7/100\n",
            "29/29 [==============================] - 1s 37ms/step - loss: 11537078.0000\n",
            "Epoch 8/100\n",
            "29/29 [==============================] - 1s 35ms/step - loss: 11536960.0000\n",
            "Epoch 9/100\n",
            "29/29 [==============================] - 1s 34ms/step - loss: 11536838.0000\n",
            "Epoch 10/100\n",
            "29/29 [==============================] - 1s 47ms/step - loss: 11536718.0000\n",
            "Epoch 11/100\n",
            "29/29 [==============================] - 1s 46ms/step - loss: 11536598.0000\n",
            "Epoch 12/100\n",
            "29/29 [==============================] - 1s 36ms/step - loss: 11536476.0000\n",
            "Epoch 13/100\n",
            "29/29 [==============================] - 1s 36ms/step - loss: 11536357.0000\n",
            "Epoch 14/100\n",
            "29/29 [==============================] - 1s 37ms/step - loss: 11536239.0000\n",
            "Epoch 15/100\n",
            "29/29 [==============================] - 1s 37ms/step - loss: 11536119.0000\n",
            "Epoch 16/100\n",
            "29/29 [==============================] - 1s 38ms/step - loss: 11535997.0000\n",
            "Epoch 17/100\n",
            "29/29 [==============================] - 1s 40ms/step - loss: 11535879.0000\n",
            "Epoch 18/100\n",
            "29/29 [==============================] - 1s 35ms/step - loss: 11535760.0000\n",
            "Epoch 19/100\n",
            "29/29 [==============================] - 1s 36ms/step - loss: 11535641.0000\n",
            "Epoch 20/100\n",
            "29/29 [==============================] - 1s 34ms/step - loss: 11535518.0000\n",
            "Epoch 21/100\n",
            "29/29 [==============================] - 1s 45ms/step - loss: 11535402.0000\n",
            "Epoch 22/100\n",
            "29/29 [==============================] - 1s 42ms/step - loss: 11535282.0000\n",
            "Epoch 23/100\n",
            "29/29 [==============================] - 1s 31ms/step - loss: 11535162.0000\n",
            "Epoch 24/100\n",
            "29/29 [==============================] - 1s 32ms/step - loss: 11535044.0000\n",
            "Epoch 25/100\n",
            "29/29 [==============================] - 1s 36ms/step - loss: 11534924.0000\n",
            "Epoch 26/100\n",
            "29/29 [==============================] - 1s 37ms/step - loss: 11534802.0000\n",
            "Epoch 27/100\n",
            "29/29 [==============================] - 1s 34ms/step - loss: 11534683.0000\n",
            "Epoch 28/100\n",
            "29/29 [==============================] - 1s 31ms/step - loss: 11534562.0000\n",
            "Epoch 29/100\n",
            "29/29 [==============================] - 1s 37ms/step - loss: 11534445.0000\n",
            "Epoch 30/100\n",
            "29/29 [==============================] - 1s 37ms/step - loss: 11534324.0000\n",
            "Epoch 31/100\n",
            "29/29 [==============================] - 1s 33ms/step - loss: 11534205.0000\n",
            "Epoch 32/100\n",
            "29/29 [==============================] - 1s 43ms/step - loss: 11534085.0000\n",
            "Epoch 33/100\n",
            "29/29 [==============================] - 1s 50ms/step - loss: 11533965.0000\n",
            "Epoch 34/100\n",
            "29/29 [==============================] - 1s 33ms/step - loss: 11533847.0000\n",
            "Epoch 35/100\n",
            "29/29 [==============================] - 1s 33ms/step - loss: 11533723.0000\n",
            "Epoch 36/100\n",
            "29/29 [==============================] - 1s 29ms/step - loss: 11533607.0000\n",
            "Epoch 37/100\n",
            "29/29 [==============================] - 1s 30ms/step - loss: 11533487.0000\n",
            "Epoch 38/100\n",
            "29/29 [==============================] - 1s 32ms/step - loss: 11533368.0000\n",
            "Epoch 39/100\n",
            "29/29 [==============================] - 1s 34ms/step - loss: 11533247.0000\n",
            "Epoch 40/100\n",
            "29/29 [==============================] - 1s 35ms/step - loss: 11533129.0000\n",
            "Epoch 41/100\n",
            "29/29 [==============================] - 1s 34ms/step - loss: 11533008.0000\n",
            "Epoch 42/100\n",
            "29/29 [==============================] - 1s 30ms/step - loss: 11532887.0000\n",
            "Epoch 43/100\n",
            "29/29 [==============================] - 1s 34ms/step - loss: 11532769.0000\n",
            "Epoch 44/100\n",
            "29/29 [==============================] - 1s 40ms/step - loss: 11532648.0000\n",
            "Epoch 45/100\n",
            "29/29 [==============================] - 1s 41ms/step - loss: 11532531.0000\n",
            "Epoch 46/100\n",
            "29/29 [==============================] - 1s 36ms/step - loss: 11532410.0000\n",
            "Epoch 47/100\n",
            "29/29 [==============================] - 1s 32ms/step - loss: 11532287.0000\n",
            "Epoch 48/100\n",
            "29/29 [==============================] - 1s 32ms/step - loss: 11532170.0000\n",
            "Epoch 49/100\n",
            "29/29 [==============================] - 1s 32ms/step - loss: 11532052.0000\n",
            "Epoch 50/100\n",
            "29/29 [==============================] - 1s 31ms/step - loss: 11531930.0000\n",
            "Epoch 51/100\n",
            "29/29 [==============================] - 1s 24ms/step - loss: 11531812.0000\n",
            "Epoch 52/100\n",
            "29/29 [==============================] - 1s 33ms/step - loss: 11531691.0000\n",
            "Epoch 53/100\n",
            "29/29 [==============================] - 1s 34ms/step - loss: 11531572.0000\n",
            "Epoch 54/100\n",
            "29/29 [==============================] - 1s 26ms/step - loss: 11531454.0000\n",
            "Epoch 55/100\n",
            "29/29 [==============================] - 1s 25ms/step - loss: 11531332.0000\n",
            "Epoch 56/100\n",
            "29/29 [==============================] - 1s 27ms/step - loss: 11531212.0000\n",
            "Epoch 57/100\n",
            "29/29 [==============================] - 1s 41ms/step - loss: 11531095.0000\n",
            "Epoch 58/100\n",
            "29/29 [==============================] - 1s 41ms/step - loss: 11530976.0000\n",
            "Epoch 59/100\n",
            "29/29 [==============================] - 1s 33ms/step - loss: 11530855.0000\n",
            "Epoch 60/100\n",
            "29/29 [==============================] - 1s 32ms/step - loss: 11530735.0000\n",
            "Epoch 61/100\n",
            "29/29 [==============================] - 1s 34ms/step - loss: 11530618.0000\n",
            "Epoch 62/100\n",
            "29/29 [==============================] - 1s 34ms/step - loss: 11530494.0000\n",
            "Epoch 63/100\n",
            "29/29 [==============================] - 1s 34ms/step - loss: 11530379.0000\n",
            "Epoch 64/100\n",
            "29/29 [==============================] - 1s 27ms/step - loss: 11530257.0000\n",
            "Epoch 65/100\n",
            "29/29 [==============================] - 1s 34ms/step - loss: 11530139.0000\n",
            "Epoch 66/100\n",
            "29/29 [==============================] - 1s 33ms/step - loss: 11530018.0000\n",
            "Epoch 67/100\n",
            "29/29 [==============================] - 1s 33ms/step - loss: 11529898.0000\n",
            "Epoch 68/100\n",
            "29/29 [==============================] - 1s 33ms/step - loss: 11529780.0000\n",
            "Epoch 69/100\n",
            "29/29 [==============================] - 1s 47ms/step - loss: 11529659.0000\n",
            "Epoch 70/100\n",
            "29/29 [==============================] - 1s 41ms/step - loss: 11529540.0000\n",
            "Epoch 71/100\n",
            "29/29 [==============================] - 1s 32ms/step - loss: 11529420.0000\n",
            "Epoch 72/100\n",
            "29/29 [==============================] - 1s 33ms/step - loss: 11529303.0000\n",
            "Epoch 73/100\n",
            "29/29 [==============================] - 1s 25ms/step - loss: 11529181.0000\n",
            "Epoch 74/100\n",
            "29/29 [==============================] - 1s 25ms/step - loss: 11529061.0000\n",
            "Epoch 75/100\n",
            "29/29 [==============================] - 1s 26ms/step - loss: 11528942.0000\n",
            "Epoch 76/100\n",
            "29/29 [==============================] - 1s 33ms/step - loss: 11528823.0000\n",
            "Epoch 77/100\n",
            "29/29 [==============================] - 1s 24ms/step - loss: 11528701.0000\n",
            "Epoch 78/100\n",
            "29/29 [==============================] - 1s 23ms/step - loss: 11528585.0000\n",
            "Epoch 79/100\n",
            "29/29 [==============================] - 1s 25ms/step - loss: 11528464.0000\n",
            "Epoch 80/100\n",
            "29/29 [==============================] - 1s 26ms/step - loss: 11528347.0000\n",
            "Epoch 81/100\n",
            "29/29 [==============================] - 1s 26ms/step - loss: 11528227.0000\n",
            "Epoch 82/100\n",
            "29/29 [==============================] - 1s 33ms/step - loss: 11528107.0000\n",
            "Epoch 83/100\n",
            "29/29 [==============================] - 1s 47ms/step - loss: 11527988.0000\n",
            "Epoch 84/100\n",
            "29/29 [==============================] - 1s 44ms/step - loss: 11527869.0000\n",
            "Epoch 85/100\n",
            "29/29 [==============================] - 2s 55ms/step - loss: 11527750.0000\n",
            "Epoch 86/100\n",
            "29/29 [==============================] - 1s 31ms/step - loss: 11527628.0000\n",
            "Epoch 87/100\n",
            "29/29 [==============================] - 1s 25ms/step - loss: 11527507.0000\n",
            "Epoch 88/100\n",
            "29/29 [==============================] - 1s 27ms/step - loss: 11527388.0000\n",
            "Epoch 89/100\n",
            "29/29 [==============================] - 1s 31ms/step - loss: 11527273.0000\n",
            "Epoch 90/100\n",
            "29/29 [==============================] - 1s 31ms/step - loss: 11527146.0000\n",
            "Epoch 91/100\n",
            "29/29 [==============================] - 1s 27ms/step - loss: 11527029.0000\n",
            "Epoch 92/100\n",
            "29/29 [==============================] - 1s 31ms/step - loss: 11526903.0000\n",
            "Epoch 93/100\n",
            "29/29 [==============================] - 1s 39ms/step - loss: 11526794.0000\n",
            "Epoch 94/100\n",
            "29/29 [==============================] - 1s 32ms/step - loss: 11526671.0000\n",
            "Epoch 95/100\n",
            "29/29 [==============================] - 1s 36ms/step - loss: 11526552.0000\n",
            "Epoch 96/100\n",
            "29/29 [==============================] - 1s 38ms/step - loss: 11526432.0000\n",
            "Epoch 97/100\n",
            "29/29 [==============================] - 1s 30ms/step - loss: 11526314.0000\n",
            "Epoch 98/100\n",
            "29/29 [==============================] - 1s 39ms/step - loss: 11526194.0000\n",
            "Epoch 99/100\n",
            "29/29 [==============================] - 1s 42ms/step - loss: 11526071.0000\n",
            "Epoch 100/100\n",
            "29/29 [==============================] - 1s 28ms/step - loss: 11525954.0000\n"
          ]
        },
        {
          "output_type": "execute_result",
          "data": {
            "text/plain": [
              "<keras.src.callbacks.History at 0x7f43f74d7a30>"
            ]
          },
          "metadata": {},
          "execution_count": 31
        }
      ]
    },
    {
      "cell_type": "code",
      "source": [
        "model = tf.keras.Sequential([\n",
        "  tf.keras.layers.Dense(128, activation='relu'),\n",
        "  tf.keras.layers.Dense(1)\n",
        "])\n",
        "\n",
        "# Compile the model\n",
        "model.compile(optimizer='adam', loss='mse')\n",
        "X_test = tf.expand_dims(X_test, axis=1)\n",
        "# Predict the labels for the testing dataset\n",
        "y_pred = model.predict(X_test)"
      ],
      "metadata": {
        "colab": {
          "base_uri": "https://localhost:8080/"
        },
        "id": "IpEdRKnRfDYY",
        "outputId": "222ffda5-1209-4654-af95-57b742b5fd3c"
      },
      "execution_count": 38,
      "outputs": [
        {
          "output_type": "stream",
          "name": "stdout",
          "text": [
            "2415/2415 [==============================] - 4s 1ms/step\n"
          ]
        }
      ]
    },
    {
      "cell_type": "code",
      "source": [
        "#Visualizing the results\n",
        "import matplotlib.pyplot as plt\n",
        "print(y_pred)\n",
        "x_axis = np.arange(1, len(y_pred) + 1)\n",
        "\n",
        "# Plot the predictions against the x-axis values\n",
        "plt.plot(x_axis, y_pred, label='Predictions')\n",
        "\n",
        "# Add a legend to the plot\n",
        "plt.legend()\n",
        "\n",
        "# Set the title and labels for the plot\n",
        "plt.title('LSTM Model Predictions')\n",
        "plt.xlabel('Time Step')\n",
        "plt.ylabel('Prediction')\n",
        "\n",
        "# Show the plot\n",
        "plt.show()"
      ],
      "metadata": {
        "colab": {
          "base_uri": "https://localhost:8080/",
          "height": 599
        },
        "id": "zBf5Gku5sJ2C",
        "outputId": "f458efd4-190e-4fff-aea6-d1cc99d36085"
      },
      "execution_count": 46,
      "outputs": [
        {
          "output_type": "stream",
          "name": "stdout",
          "text": [
            "[[-0.00811878]\n",
            " [-0.01775857]\n",
            " [-0.02797733]\n",
            " ...\n",
            " [-0.11114056]\n",
            " [-0.06652179]\n",
            " [-0.06636085]]\n"
          ]
        },
        {
          "output_type": "display_data",
          "data": {
            "text/plain": [
              "<Figure size 640x480 with 1 Axes>"
            ],
            "image/png": "[encoded data removed]"
          },
          "metadata": {}
        }
      ]
    },
    {
      "cell_type": "code",
      "source": [
        "#Markovitz Model for Allocation\n",
        "from datetime import datetime,timedelta\n",
        "end_date=datetime.today()\n",
        "start_date=end_date-timedelta(days=5*365)\n",
        "print(start_date)\n",
        "\n",
        "#Adjusting Data Prices\n",
        "adj_close_df=pd.DataFrame()\n",
        "for ticker in company_tickers:\n",
        "    data=yf.download(ticker, start=start_date,end=end_date)\n",
        "    adj_close_df[ticker]=data['Adj Close']\n",
        ""
      ],
      "metadata": {
        "colab": {
          "base_uri": "https://localhost:8080/"
        },
        "id": "MrquJ_drrWZE",
        "outputId": "cbb16011-cefa-4c90-f055-7d4eb580261f"
      },
      "execution_count": 50,
      "outputs": [
        {
          "output_type": "stream",
          "name": "stdout",
          "text": [
            "2018-11-03 15:51:14.561374\n",
            "[*********************100%%**********************]  1 of 1 completed\n",
            "[*********************100%%**********************]  1 of 1 completed\n",
            "[*********************100%%**********************]  1 of 1 completed\n",
            "[*********************100%%**********************]  1 of 1 completed\n",
            "[*********************100%%**********************]  1 of 1 completed\n",
            "[*********************100%%**********************]  1 of 1 completed\n",
            "[*********************100%%**********************]  1 of 1 completed\n",
            "[*********************100%%**********************]  1 of 1 completed\n",
            "[*********************100%%**********************]  1 of 1 completed\n",
            "[*********************100%%**********************]  1 of 1 completed\n",
            "[*********************100%%**********************]  1 of 1 completed\n",
            "[*********************100%%**********************]  1 of 1 completed\n",
            "[*********************100%%**********************]  1 of 1 completed\n",
            "[*********************100%%**********************]  1 of 1 completed\n",
            "[*********************100%%**********************]  1 of 1 completed\n",
            "[*********************100%%**********************]  1 of 1 completed\n",
            "[*********************100%%**********************]  1 of 1 completed\n",
            "[*********************100%%**********************]  1 of 1 completed\n",
            "[*********************100%%**********************]  1 of 1 completed\n",
            "[*********************100%%**********************]  1 of 1 completed\n",
            "[*********************100%%**********************]  1 of 1 completed\n",
            "[*********************100%%**********************]  1 of 1 completed\n",
            "[*********************100%%**********************]  1 of 1 completed\n",
            "[*********************100%%**********************]  1 of 1 completed\n",
            "[*********************100%%**********************]  1 of 1 completed\n",
            "[*********************100%%**********************]  1 of 1 completed\n",
            "[*********************100%%**********************]  1 of 1 completed\n",
            "[*********************100%%**********************]  1 of 1 completed\n",
            "[*********************100%%**********************]  1 of 1 completed\n",
            "[*********************100%%**********************]  1 of 1 completed\n",
            "[*********************100%%**********************]  1 of 1 completed\n",
            "[*********************100%%**********************]  1 of 1 completed\n",
            "[*********************100%%**********************]  1 of 1 completed\n",
            "[*********************100%%**********************]  1 of 1 completed\n",
            "[*********************100%%**********************]  1 of 1 completed\n",
            "[*********************100%%**********************]  1 of 1 completed\n",
            "[*********************100%%**********************]  1 of 1 completed\n",
            "[*********************100%%**********************]  1 of 1 completed\n",
            "[*********************100%%**********************]  1 of 1 completed\n",
            "[*********************100%%**********************]  1 of 1 completed\n",
            "[*********************100%%**********************]  1 of 1 completed\n",
            "[*********************100%%**********************]  1 of 1 completed\n",
            "[*********************100%%**********************]  1 of 1 completed\n",
            "[*********************100%%**********************]  1 of 1 completed\n",
            "[*********************100%%**********************]  1 of 1 completed\n",
            "[*********************100%%**********************]  1 of 1 completed\n",
            "[*********************100%%**********************]  1 of 1 completed\n",
            "[*********************100%%**********************]  1 of 1 completed\n",
            "[*********************100%%**********************]  1 of 1 completed\n",
            "[*********************100%%**********************]  1 of 1 completed\n"
          ]
        }
      ]
    },
    {
      "cell_type": "code",
      "source": [
        "#Calculating Optimal Weight Allocation:\n",
        "from scipy.optimize import minimize\n",
        "log_returns=np.log(adj_close_df/adj_close_df.shift(1))\n",
        "log_returns=log_returns.dropna()\n",
        "cov_matrix=log_returns.cov()*252\n",
        "def standard_deviation(weights,cov_matrix):\n",
        "    variance=weights.T@cov_matrix@weights\n",
        "    return np.sqrt(variance)\n",
        "def expected_return(weights,log_returns):\n",
        "    return np.sum(log_returns.mean()*weights)*252\n",
        "def sharpe_ratio(weights,log_returns,cov_matrix,risk_free_rate):\n",
        "    return ((expected_return(weights,log_returns)-risk_free_rate)/standard_deviation(weights,cov_matrix))\n",
        "risk_free_rate = .02\n",
        "\n",
        "def neg_sharpe_ratio(weights, log_returns, cov_matrix, risk_free_rate):\n",
        "    return -sharpe_ratio(weights, log_returns, cov_matrix, risk_free_rate)\n",
        "\n",
        "constraints = {'type': 'eq', 'fun': lambda weights: np.sum(weights) - 1}\n",
        "bounds = [(0, 0.4) for _ in range(len(company_tickers))]\n",
        "initial_weights = np.array([1/len(company_tickers)]*len(company_tickers))\n",
        "\n",
        "optimized_results = minimize(neg_sharpe_ratio, initial_weights, args=(log_returns, cov_matrix, risk_free_rate), method='SLSQP', constraints=constraints, bounds=bounds)\n",
        "optimal_weights = optimized_results.x\n",
        "\n",
        "print(\"Optimal Weights:\")\n",
        "for ticker, weight in zip(company_tickers, optimal_weights):\n",
        "    print(f\"{ticker}: {weight:.4f}\")\n",
        "\n",
        "optimal_portfolio_return = expected_return(optimal_weights, log_returns)\n",
        "optimal_portfolio_volatility = standard_deviation(optimal_weights, cov_matrix)\n",
        "optimal_sharpe_ratio = sharpe_ratio(optimal_weights, log_returns, cov_matrix, risk_free_rate)\n",
        "\n",
        "print(f\"Expected Annual Return: {optimal_portfolio_return:.4f}\")\n",
        "print(f\"Expected Volatility: {optimal_portfolio_volatility:.4f}\")\n",
        "print(f\"Sharpe Ratio: {optimal_sharpe_ratio:.4f}\")"
      ],
      "metadata": {
        "colab": {
          "base_uri": "https://localhost:8080/"
        },
        "id": "BwaeWaWIukDB",
        "outputId": "b3a30189-9bc7-40c6-d375-1d2fa74d333a"
      },
      "execution_count": 72,
      "outputs": [
        {
          "output_type": "stream",
          "name": "stdout",
          "text": [
            "Optimal Weights:\n",
            "ADANIPORTS.NS: 0.0000\n",
            "ADANIENT.NS: 0.1245\n",
            "APOLLOHOSP.NS: 0.0919\n",
            "AXISBANK.NS: 0.0000\n",
            "ASIANPAINT.NS: 0.0000\n",
            "BAJAJFINSV.NS: 0.0000\n",
            "BAJAJ-AUTO.NS: 0.0000\n",
            "BAJFINANCE.NS: 0.0000\n",
            "BRITANNIA.NS: 0.0000\n",
            "BHARTIARTL.NS: 0.0884\n",
            "BPCL.NS: 0.0000\n",
            "CIPLA.NS: 0.0341\n",
            "COALINDIA.NS: 0.0000\n",
            "DRREDDY.NS: 0.0708\n",
            "DIVISLAB.NS: 0.0000\n",
            "EICHERMOT.NS: 0.0000\n",
            "GRASIM.NS: 0.0000\n",
            "HINDALCO.NS: 0.0000\n",
            "HDFCBANK.NS: 0.0000\n",
            "HDFCLIFE.NS: 0.0000\n",
            "HCLTECH.NS: 0.0583\n",
            "HINDUNILVR.NS: 0.0000\n",
            "HEROMOTOCO.NS: 0.0000\n",
            "ICICIBANK.NS: 0.0000\n",
            "ITC.NS: 0.0000\n",
            "INFY.NS: 0.0000\n",
            "INDUSINDBK.NS: 0.0000\n",
            "JSWSTEEL.NS: 0.0000\n",
            "KOTAKBANK.NS: 0.0000\n",
            "LT.NS: 0.0000\n",
            "LTIM.NS: 0.0277\n",
            "M&M.NS: 0.0000\n",
            "MARUTI.NS: 0.0000\n",
            "NESTLEIND.NS: 0.1106\n",
            "ONGC.NS: 0.0000\n",
            "NTPC.NS: 0.0000\n",
            "POWERGRID.NS: 0.1526\n",
            "RELIANCE.NS: 0.0000\n",
            "SBIN.NS: 0.0000\n",
            "SBILIFE.NS: 0.0000\n",
            "SUNPHARMA.NS: 0.0000\n",
            "TATASTEEL.NS: 0.0000\n",
            "TATACONSUM.NS: 0.1247\n",
            "TATAMOTORS.NS: 0.0000\n",
            "TCS.NS: 0.0000\n",
            "TECHM.NS: 0.0000\n",
            "TITAN.NS: 0.1164\n",
            "UPL.NS: 0.0000\n",
            "ULTRACEMCO.NS: 0.0000\n",
            "WIPRO.NS: 0.0000\n",
            "Expected Annual Return: 0.2739\n",
            "Expected Volatility: 0.1872\n",
            "Sharpe Ratio: 1.3564\n"
          ]
        }
      ]
    },
    {
      "cell_type": "code",
      "source": [
        "non_zero_tickers=[]\n",
        "for i in range(len(company_tickers)):\n",
        "  if optimal_weights[i]>0.0001:\n",
        "    non_zero_tickers.append(company_tickers[i])\n",
        "company_tickers=non_zero_tickers\n",
        "optimal_weights = [optimal_weights[i] for i in range(len(company_tickers))]\n"
      ],
      "metadata": {
        "id": "A899b85WwAxw"
      },
      "execution_count": 73,
      "outputs": []
    },
    {
      "cell_type": "code",
      "source": [
        "plt.figure(figsize=(10, 6))\n",
        "plt.bar(company_tickers, optimal_weights)\n",
        "\n",
        "plt.xlabel('Assets')\n",
        "plt.ylabel('Optimal Weights')\n",
        "plt.title('Optimal Portfolio Weights')\n",
        "\n",
        "plt.show()"
      ],
      "metadata": {
        "colab": {
          "base_uri": "https://localhost:8080/",
          "height": 564
        },
        "id": "uE08VLMOvnpM",
        "outputId": "73e02b5f-ddfc-40f0-ea7f-867c3b600276"
      },
      "execution_count": 74,
      "outputs": [
        {
          "output_type": "display_data",
          "data": {
            "text/plain": [
              "<Figure size 1000x600 with 1 Axes>"
            ],
            "image/png": "[encoded data removed]"
          },
          "metadata": {}
        }
      ]
    },
    {
      "cell_type": "code",
      "source": [
        "#Comparing annual returns obtained to other asset class\n",
        "returns=[optimal_portfolio_return*100,11.76,13.9,7.78]\n",
        "index=['Model Weights','S&P 500','Nifty50','Gold']\n",
        "plt.bar(index,returns)\n",
        "plt.title('Return Rates')\n",
        "plt.xlabel('Other Benchmarks')\n",
        "plt.ylabel('Expected Annual Return %')\n",
        "\n",
        "plt.show()"
      ],
      "metadata": {
        "colab": {
          "base_uri": "https://localhost:8080/",
          "height": 472
        },
        "id": "NXJL4tchypXr",
        "outputId": "debbf6da-7a4e-44fe-ced9-e8ddbcb9bbc1"
      },
      "execution_count": 87,
      "outputs": [
        {
          "output_type": "display_data",
          "data": {
            "text/plain": [
              "<Figure size 640x480 with 1 Axes>"
            ],
            "image/png": "[encoded data removed]"
          },
          "metadata": {}
        }
      ]
    }
  ]
}