{
  "nbformat": 4,
  "nbformat_minor": 0,
  "metadata": {
    "colab": {
      "provenance": [],
      "authorship_tag": "ABX9TyN8BIHIgCaA9HONMli2Y28S",
      "include_colab_link": true
    },
    "kernelspec": {
      "name": "python3",
      "display_name": "Python 3"
    },
    "language_info": {
      "name": "python"
    }
  },
  "cells": [
    {
      "cell_type": "markdown",
      "metadata": {
        "id": "view-in-github",
        "colab_type": "text"
      },
      "source": [
        "<a href=\"https://colab.research.google.com/github/Kushagra-1071/Portfolio_Optimization/blob/main/Portfolio_Optimization.ipynb\" target=\"_parent\"><img src=\"https://colab.research.google.com/assets/colab-badge.svg\" alt=\"Open In Colab\"/></a>"
      ]
    },
    {
      "cell_type": "markdown",
      "source": [
        "Importing 100 companies data.\n"
      ],
      "metadata": {
        "id": "tzRYOAArP3BP"
      }
    },
    {
      "cell_type": "code",
      "source": [
        "import yfinance as yf\n",
        "import pandas as pd\n",
        "\n",
        "df=pd.read_excel('Ticker_data.xlsx')\n",
        "\n",
        "\n",
        "# Remove every alternate entry from the DataFrame\n",
        "new_df = df.iloc[1::2]\n",
        "new_df['Unnamed: 0'] = new_df['Unnamed: 0'].apply(lambda x: x + '.NS')\n",
        "\n",
        "# Print the dataframe\n",
        "print(new_df)\n"
      ],
      "metadata": {
        "colab": {
          "base_uri": "https://localhost:8080/"
        },
        "id": "OD6uUHGhP7JF",
        "outputId": "16cc9e2d-9f66-4964-e7ed-bc9ff48b1356"
      },
      "execution_count": 7,
      "outputs": [
        {
          "output_type": "stream",
          "name": "stdout",
          "text": [
            "        Unnamed: 0\n",
            "1         ABFRL.NS\n",
            "3         AFFLE.NS\n",
            "5    AARTIDRUGS.NS\n",
            "7      AARTIIND.NS\n",
            "9           ACC.NS\n",
            "..             ...\n",
            "191  COCHINSHIP.NS\n",
            "193   CENTRALBK.NS\n",
            "195  CHAMBLFERT.NS\n",
            "197    CHOLAFIN.NS\n",
            "199        CERA.NS\n",
            "\n",
            "[100 rows x 1 columns]\n"
          ]
        },
        {
          "output_type": "stream",
          "name": "stderr",
          "text": [
            "<ipython-input-7-0adc301fcc89>:9: SettingWithCopyWarning: \n",
            "A value is trying to be set on a copy of a slice from a DataFrame.\n",
            "Try using .loc[row_indexer,col_indexer] = value instead\n",
            "\n",
            "See the caveats in the documentation: https://pandas.pydata.org/pandas-docs/stable/user_guide/indexing.html#returning-a-view-versus-a-copy\n",
            "  new_df['Unnamed: 0'] = new_df['Unnamed: 0'].apply(lambda x: x + '.NS')\n"
          ]
        }
      ]
    },
    {
      "cell_type": "markdown",
      "source": [
        "Getting ticker data from yahoo finance for the data"
      ],
      "metadata": {
        "id": "ebEgVMwsa313"
      }
    },
    {
      "cell_type": "code",
      "source": [
        "excel_file='/content/Ticker_data.xlsx'\n",
        "new_df.to_excel=(excel_file)"
      ],
      "metadata": {
        "id": "5TpfOOuRbAAF"
      },
      "execution_count": 16,
      "outputs": []
    },
    {
      "cell_type": "markdown",
      "source": [
        "LSTM Approach"
      ],
      "metadata": {
        "id": "0_67BQpqEg6Q"
      }
    },
    {
      "cell_type": "code",
      "source": [
        "import numpy as np\n",
        "import tensorflow as tf\n",
        "from tensorflow.keras.models import Sequential\n",
        "from tensorflow.keras.layers import LSTM, Dense\n",
        "\n",
        "\n",
        "# Load and preprocess the historical asset data\n",
        "# Put your own stuff here.\n",
        "\n",
        "\n",
        "# Split the data into training and testing sets\n",
        "# Put your own stuff here.\n",
        "\n",
        "\n",
        "# Create and train the LSTM model\n",
        "model = Sequential()\n",
        "model.add(LSTM(units=64, input_shape=(num_timesteps, num_features)))\n",
        "model.add(Dense(units=num_assets))\n",
        "model.compile(optimizer='adam', loss='mean_squared_error')\n",
        "model.fit(X_train, y_train, epochs=10, batch_size=32)\n",
        "\n",
        "\n",
        "# Compute optimal portfolio allocation\n",
        "allocation = model.predict(X_test)\n",
        "# Put your own stuff here.\n",
        "\n",
        "\n",
        "# Generate rebalanced portfolio weights\n",
        "rebalanced_weights = rebalance_portfolio(allocation, current_weights)\n",
        "# Put your own stuff here."
      ],
      "metadata": {
        "id": "RFV21-QEEjtz"
      },
      "execution_count": null,
      "outputs": []
    },
    {
      "cell_type": "markdown",
      "source": [
        "My_Approach"
      ],
      "metadata": {
        "id": "FHAUQTYPQ1e_"
      }
    },
    {
      "cell_type": "code",
      "source": [
        "#importing Libraries\n",
        "import yfinance as yf\n",
        "import pandas as pd\n",
        "from tensorflow.keras.models import Sequential\n",
        "from tensorflow.keras.layers import Dense, LSTM\n",
        "from numpy import array\n",
        "import numpy as np\n",
        "from scipy.optimize import minimize"
      ],
      "metadata": {
        "id": "X-0VBaxFQ4rA"
      },
      "execution_count": 19,
      "outputs": []
    },
    {
      "cell_type": "code",
      "source": [
        "#Getting Company data for Nifty 50 stocks\n",
        "company_tickers = ['ADANIPORTS.NS','ADANIENT.NS','APOLLOHOSP.NS','AXISBANK.NS','ASIANPAINT.NS','BAJAJFINSV.NS','BAJAJ-AUTO.NS','BAJFINANCE.NS','BRITANNIA.NS','BHARTIARTL.NS','BPCL.NS','CIPLA.NS','COALINDIA.NS','DRREDDY.NS','DIVISLAB.NS','EICHERMOT.NS','GRASIM.NS','HINDALCO.NS','HDFCBANK.NS','HDFCLIFE.NS','HCLTECH.NS','HINDUNILVR.NS','HEROMOTOCO.NS','ICICIBANK.NS','ITC.NS','INFY.NS','INDUSINDBK.NS','JSWSTEEL.NS','KOTAKBANK.NS','LT.NS','LTIM.NS','M&M.NS','MARUTI.NS','NESTLEIND.NS','ONGC.NS','NTPC.NS','POWERGRID.NS','RELIANCE.NS','SBIN.NS','SBILIFE.NS','SUNPHARMA.NS','TATASTEEL.NS','TATACONSUM.NS','TATAMOTORS.NS','TCS.NS','TECHM.NS','TITAN.NS','UPL.NS','ULTRACEMCO.NS','WIPRO.NS']\n",
        "stock_data = yf.download(company_tickers, period='5y')"
      ],
      "metadata": {
        "colab": {
          "base_uri": "https://localhost:8080/"
        },
        "id": "-26xJdGyQ_4N",
        "outputId": "3d74065f-8b00-4f5a-cd67-8c48cc903cf5"
      },
      "execution_count": 17,
      "outputs": [
        {
          "output_type": "stream",
          "name": "stdout",
          "text": [
            "[*********************100%%**********************]  50 of 50 completed\n",
            "              Adj Close                                            \\\n",
            "            ADANIENT.NS ADANIPORTS.NS APOLLOHOSP.NS ASIANPAINT.NS   \n",
            "Date                                                                \n",
            "2018-11-02   173.520142    323.060760   1137.772705   1205.804932   \n",
            "2018-11-05   166.504211    319.138733   1148.373413   1202.952393   \n",
            "2018-11-06   162.502182    315.313538   1111.690063   1197.585815   \n",
            "2018-11-07   163.786789    315.894592   1115.979614   1209.624512   \n",
            "2018-11-09   164.330276    326.934418   1132.842163   1252.799316   \n",
            "...                 ...           ...           ...           ...   \n",
            "2023-10-27  2261.699951    782.400024   4830.200195   2955.149902   \n",
            "2023-10-30  2299.100098    785.000000   4841.750000   2967.100098   \n",
            "2023-10-31  2294.649902    784.750000   4819.899902   2995.699951   \n",
            "2023-11-01  2217.300049    769.099976   4796.549805   2934.550049   \n",
            "2023-11-02  2215.300049    774.299988   4887.000000   2955.399902   \n",
            "\n",
            "                                                                   \\\n",
            "            AXISBANK.NS BAJAJ-AUTO.NS BAJAJFINSV.NS BAJFINANCE.NS   \n",
            "Date                                                                \n",
            "2018-11-02   608.344849   2179.240479    551.127747   2341.106934   \n",
            "2018-11-05   622.042969   2191.375732    555.546570   2317.629395   \n",
            "2018-11-06   605.156982   2193.056396    557.681152   2298.327637   \n",
            "2018-11-07   604.559204   2207.774658    561.391785   2306.824463   \n",
            "2018-11-09   610.885193   2208.184570    568.693237   2333.297363   \n",
            "...                 ...           ...           ...           ...   \n",
            "2023-10-27  1002.750000   5373.549805   1566.400024   7507.200195   \n",
            "2023-10-30   989.200012   5308.899902   1561.099976   7503.049805   \n",
            "2023-10-31   981.849976   5314.049805   1569.550049   7492.649902   \n",
            "2023-11-01   971.799988   5344.350098   1572.849976   7471.899902   \n",
            "2023-11-02   982.950012   5318.399902   1575.599976   7449.100098   \n",
            "\n",
            "                                      ...       Volume                \\\n",
            "           BHARTIARTL.NS     BPCL.NS  ... SUNPHARMA.NS TATACONSUM.NS   \n",
            "Date                                  ...                              \n",
            "2018-11-02    271.655670  226.649368  ...      2688591       1701852   \n",
            "2018-11-05    274.923492  218.740784  ...      2962317        977010   \n",
            "2018-11-06    276.600922  213.718307  ...      3500726       1114288   \n",
            "2018-11-07    277.689056  216.454468  ...       298414        180558   \n",
            "2018-11-09    271.795227  222.526413  ...      6848765       3291284   \n",
            "...                  ...         ...  ...          ...           ...   \n",
            "2023-10-27    914.599976  334.950012  ...      1250965        797507   \n",
            "2023-10-30    926.250000  346.899994  ...      1078813       1147541   \n",
            "2023-10-31    914.400024  349.250000  ...      6475786       1082510   \n",
            "2023-11-01    913.450012  356.899994  ...      3973264       2678745   \n",
            "2023-11-02    923.849976  360.549988  ...      3454674       1082384   \n",
            "\n",
            "                                                                  \\\n",
            "           TATAMOTORS.NS TATASTEEL.NS   TCS.NS TECHM.NS TITAN.NS   \n",
            "Date                                                               \n",
            "2018-11-02      29425248     79794570  1818635  4445407  3078543   \n",
            "2018-11-05      14818506     45358560  1713366  2782174  1903690   \n",
            "2018-11-06      35339222     39102740  1398710  1752227  2504504   \n",
            "2018-11-07       3932893      4138710   144530   111376   331169   \n",
            "2018-11-09      22341961     43487160  2570479  2573761  3528039   \n",
            "...                  ...          ...      ...      ...      ...   \n",
            "2023-10-27      10232856     28424007  1108851  1382498  1050608   \n",
            "2023-10-30      12786883     18753217   910972  2255915   802316   \n",
            "2023-10-31      11395766     22319950   999811  1194765  1235478   \n",
            "2023-11-01       8785264     24717941  1563475  1288497   756820   \n",
            "2023-11-02       9926977     72527298  1244886  2492831   774124   \n",
            "\n",
            "                                            \n",
            "           ULTRACEMCO.NS   UPL.NS WIPRO.NS  \n",
            "Date                                        \n",
            "2018-11-02        444425  7268007  4880965  \n",
            "2018-11-05        229476  2223669  3405427  \n",
            "2018-11-06        277572  2185276  3054576  \n",
            "2018-11-07         52687   579105   190054  \n",
            "2018-11-09        200993  2790439  6164637  \n",
            "...                  ...      ...      ...  \n",
            "2023-10-27        227682  2425358  3101406  \n",
            "2023-10-30        244073  7164172  2344372  \n",
            "2023-10-31        218908  5210230  3076768  \n",
            "2023-11-01        209234  3767073  2120976  \n",
            "2023-11-02        200581  1797750  2370938  \n",
            "\n",
            "[1236 rows x 300 columns]\n"
          ]
        }
      ]
    },
    {
      "cell_type": "code",
      "source": [
        "#Train Test Split preparation for LSTM\n",
        "from sklearn.model_selection import train_test_split\n",
        "from sklearn.preprocessing import StandardScaler\n",
        "X_train, X_test, y_train, y_test = train_test_split(stock_data[['Open', 'High', 'Low', 'Close', 'Volume']], stock_data[['Close']], test_size=0.25)\n",
        "\n",
        "# Normalize the stock data\n",
        "scaler = StandardScaler()\n",
        "X_train = scaler.fit_transform(X_train)\n",
        "X_test = scaler.transform(X_test)"
      ],
      "metadata": {
        "id": "Bdm-AICkVPMp"
      },
      "execution_count": 22,
      "outputs": []
    },
    {
      "cell_type": "code",
      "source": [
        "#Building the model\n",
        "model = Sequential()\n",
        "\n",
        "# Add an LSTM layer with 128 units\n",
        "model.add(LSTM(128, input_shape=(X_train.shape[1],)))\n",
        "\n",
        "# Add a dense layer with 1 unit\n",
        "model.add(Dense(1))\n",
        "\n",
        "# Compile the model\n",
        "model.compile(loss='mse', optimizer='adam')"
      ],
      "metadata": {
        "colab": {
          "base_uri": "https://localhost:8080/",
          "height": 439
        },
        "id": "dW9P3_RQV98x",
        "outputId": "98c69864-aabe-4ce1-9a8e-754bcfe2eda0"
      },
      "execution_count": 23,
      "outputs": [
        {
          "output_type": "error",
          "ename": "ValueError",
          "evalue": "ignored",
          "traceback": [
            "\u001b[0;31m---------------------------------------------------------------------------\u001b[0m",
            "\u001b[0;31mValueError\u001b[0m                                Traceback (most recent call last)",
            "\u001b[0;32m<ipython-input-23-f0842d354603>\u001b[0m in \u001b[0;36m<cell line: 5>\u001b[0;34m()\u001b[0m\n\u001b[1;32m      3\u001b[0m \u001b[0;34m\u001b[0m\u001b[0m\n\u001b[1;32m      4\u001b[0m \u001b[0;31m# Add an LSTM layer with 128 units\u001b[0m\u001b[0;34m\u001b[0m\u001b[0;34m\u001b[0m\u001b[0m\n\u001b[0;32m----> 5\u001b[0;31m \u001b[0mmodel\u001b[0m\u001b[0;34m.\u001b[0m\u001b[0madd\u001b[0m\u001b[0;34m(\u001b[0m\u001b[0mLSTM\u001b[0m\u001b[0;34m(\u001b[0m\u001b[0;36m128\u001b[0m\u001b[0;34m,\u001b[0m \u001b[0minput_shape\u001b[0m\u001b[0;34m=\u001b[0m\u001b[0;34m(\u001b[0m\u001b[0mX_train\u001b[0m\u001b[0;34m.\u001b[0m\u001b[0mshape\u001b[0m\u001b[0;34m[\u001b[0m\u001b[0;36m1\u001b[0m\u001b[0;34m]\u001b[0m\u001b[0;34m,\u001b[0m\u001b[0;34m)\u001b[0m\u001b[0;34m)\u001b[0m\u001b[0;34m)\u001b[0m\u001b[0;34m\u001b[0m\u001b[0;34m\u001b[0m\u001b[0m\n\u001b[0m\u001b[1;32m      6\u001b[0m \u001b[0;34m\u001b[0m\u001b[0m\n\u001b[1;32m      7\u001b[0m \u001b[0;31m# Add a dense layer with 1 unit\u001b[0m\u001b[0;34m\u001b[0m\u001b[0;34m\u001b[0m\u001b[0m\n",
            "\u001b[0;32m/usr/local/lib/python3.10/dist-packages/tensorflow/python/trackable/base.py\u001b[0m in \u001b[0;36m_method_wrapper\u001b[0;34m(self, *args, **kwargs)\u001b[0m\n\u001b[1;32m    202\u001b[0m     \u001b[0mself\u001b[0m\u001b[0;34m.\u001b[0m\u001b[0m_self_setattr_tracking\u001b[0m \u001b[0;34m=\u001b[0m \u001b[0;32mFalse\u001b[0m  \u001b[0;31m# pylint: disable=protected-access\u001b[0m\u001b[0;34m\u001b[0m\u001b[0;34m\u001b[0m\u001b[0m\n\u001b[1;32m    203\u001b[0m     \u001b[0;32mtry\u001b[0m\u001b[0;34m:\u001b[0m\u001b[0;34m\u001b[0m\u001b[0;34m\u001b[0m\u001b[0m\n\u001b[0;32m--> 204\u001b[0;31m       \u001b[0mresult\u001b[0m \u001b[0;34m=\u001b[0m \u001b[0mmethod\u001b[0m\u001b[0;34m(\u001b[0m\u001b[0mself\u001b[0m\u001b[0;34m,\u001b[0m \u001b[0;34m*\u001b[0m\u001b[0margs\u001b[0m\u001b[0;34m,\u001b[0m \u001b[0;34m**\u001b[0m\u001b[0mkwargs\u001b[0m\u001b[0;34m)\u001b[0m\u001b[0;34m\u001b[0m\u001b[0;34m\u001b[0m\u001b[0m\n\u001b[0m\u001b[1;32m    205\u001b[0m     \u001b[0;32mfinally\u001b[0m\u001b[0;34m:\u001b[0m\u001b[0;34m\u001b[0m\u001b[0;34m\u001b[0m\u001b[0m\n\u001b[1;32m    206\u001b[0m       \u001b[0mself\u001b[0m\u001b[0;34m.\u001b[0m\u001b[0m_self_setattr_tracking\u001b[0m \u001b[0;34m=\u001b[0m \u001b[0mprevious_value\u001b[0m  \u001b[0;31m# pylint: disable=protected-access\u001b[0m\u001b[0;34m\u001b[0m\u001b[0;34m\u001b[0m\u001b[0m\n",
            "\u001b[0;32m/usr/local/lib/python3.10/dist-packages/keras/src/utils/traceback_utils.py\u001b[0m in \u001b[0;36merror_handler\u001b[0;34m(*args, **kwargs)\u001b[0m\n\u001b[1;32m     68\u001b[0m             \u001b[0;31m# To get the full stack trace, call:\u001b[0m\u001b[0;34m\u001b[0m\u001b[0;34m\u001b[0m\u001b[0m\n\u001b[1;32m     69\u001b[0m             \u001b[0;31m# `tf.debugging.disable_traceback_filtering()`\u001b[0m\u001b[0;34m\u001b[0m\u001b[0;34m\u001b[0m\u001b[0m\n\u001b[0;32m---> 70\u001b[0;31m             \u001b[0;32mraise\u001b[0m \u001b[0me\u001b[0m\u001b[0;34m.\u001b[0m\u001b[0mwith_traceback\u001b[0m\u001b[0;34m(\u001b[0m\u001b[0mfiltered_tb\u001b[0m\u001b[0;34m)\u001b[0m \u001b[0;32mfrom\u001b[0m \u001b[0;32mNone\u001b[0m\u001b[0;34m\u001b[0m\u001b[0;34m\u001b[0m\u001b[0m\n\u001b[0m\u001b[1;32m     71\u001b[0m         \u001b[0;32mfinally\u001b[0m\u001b[0;34m:\u001b[0m\u001b[0;34m\u001b[0m\u001b[0;34m\u001b[0m\u001b[0m\n\u001b[1;32m     72\u001b[0m             \u001b[0;32mdel\u001b[0m \u001b[0mfiltered_tb\u001b[0m\u001b[0;34m\u001b[0m\u001b[0;34m\u001b[0m\u001b[0m\n",
            "\u001b[0;32m/usr/local/lib/python3.10/dist-packages/keras/src/engine/input_spec.py\u001b[0m in \u001b[0;36massert_input_compatibility\u001b[0;34m(input_spec, inputs, layer_name)\u001b[0m\n\u001b[1;32m    233\u001b[0m             \u001b[0mndim\u001b[0m \u001b[0;34m=\u001b[0m \u001b[0mshape\u001b[0m\u001b[0;34m.\u001b[0m\u001b[0mrank\u001b[0m\u001b[0;34m\u001b[0m\u001b[0;34m\u001b[0m\u001b[0m\n\u001b[1;32m    234\u001b[0m             \u001b[0;32mif\u001b[0m \u001b[0mndim\u001b[0m \u001b[0;34m!=\u001b[0m \u001b[0mspec\u001b[0m\u001b[0;34m.\u001b[0m\u001b[0mndim\u001b[0m\u001b[0;34m:\u001b[0m\u001b[0;34m\u001b[0m\u001b[0;34m\u001b[0m\u001b[0m\n\u001b[0;32m--> 235\u001b[0;31m                 raise ValueError(\n\u001b[0m\u001b[1;32m    236\u001b[0m                     \u001b[0;34mf'Input {input_index} of layer \"{layer_name}\" '\u001b[0m\u001b[0;34m\u001b[0m\u001b[0;34m\u001b[0m\u001b[0m\n\u001b[1;32m    237\u001b[0m                     \u001b[0;34m\"is incompatible with the layer: \"\u001b[0m\u001b[0;34m\u001b[0m\u001b[0;34m\u001b[0m\u001b[0m\n",
            "\u001b[0;31mValueError\u001b[0m: Input 0 of layer \"lstm\" is incompatible with the layer: expected ndim=3, found ndim=2. Full shape received: (None, 250)"
          ]
        }
      ]
    }
  ]
}